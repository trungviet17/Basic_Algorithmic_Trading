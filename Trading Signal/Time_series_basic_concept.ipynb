{
 "cells": [
  {
   "cell_type": "markdown",
   "metadata": {},
   "source": [
    "# Introduction \n",
    "- Notebook này chủ yếu tìm hiểu về những khái niệm cơ bản nhất trong việc phân tích dữ liệu Time series\n",
    "- Trong khuôn khổ một bài viết mang tính tổng quan (mới học) chủ yếu các bài tham khảo đến từ các blog, website nhằm đưa ra một cái nhìn nhanh nhất và toàn diện về lĩnh vược :V \n",
    " "
   ]
  },
  {
   "cell_type": "code",
   "execution_count": 2,
   "metadata": {},
   "outputs": [],
   "source": [
    "import numpy as np \n",
    "import talib as ta \n",
    "import pandas as pd \n",
    "import matplotlib.pyplot as plt"
   ]
  },
  {
   "cell_type": "markdown",
   "metadata": {},
   "source": [
    "- Time series là kiểu dữ liệu theo một chuỗi thời gian hay dữ liệu phụ thuộc vào thời gian (ngày, tháng năm, giờ,...). Một số ví dụ cụ thể có thể là dữ liệu về nhiệt độ trong ngày, tháng, dữ liệu về giá cổ phiểu, chứng khoán\n",
    "- Phân tích dữ liệu time series (TSA) tức là phân tích dữ liệu kiểu này nhằm mục đích : \n",
    "    1. Hiểu cách dữ liệu hoạt động và những nhân tố ảnh hưởng tới giá trị của nó tại nhiều điểm trong một khoảng thời gian \n",
    "    2. Hỗ trợ cho việc dự đoán giá trị tương lai"
   ]
  },
  {
   "cell_type": "markdown",
   "metadata": {},
   "source": [
    "- Một số khái niệm trong TSA: \n",
    "    1. Trend : dùng để miêu tả giá trị tăng hoặc giảm trong khoảng thời gian liên tục \n",
    "    2. Seasonality : sự lặp đi lặp lại của giá trị trong một khoảng thời gian cố định (thường là năm) ví dụ như trong khoảng 1 năm, doanh thu của công ty bán kem sẽ cao vào mùa hè \n",
    "    3. Unexpected events (irregularity): sự kiện xảy ra bất ngờ, không thể nắm bắt được, thay đổi một cách đột biến\n",
    "    4. Cyclic : sự kiện thay đổi lặp đi lặp lại theo chiều hướng lên xong lại xuống và ngược lại\n",
    "\n",
    "    ![Local Image](../Image/39815Components%20of%20Time%20Series%20Analysis.png)"
   ]
  },
  {
   "cell_type": "markdown",
   "metadata": {},
   "source": [
    "# Data\n",
    "- Sử dụng tập dữ liệu WTI Crude Oil trong khoảng từ 1/1/2010 - 31/12/2023 \n",
    "- Dữ liệu được lấy từ [Insvesting.com](https://www.investing.com/commodities/crude-oil-historical-data)\n"
   ]
  },
  {
   "cell_type": "code",
   "execution_count": 3,
   "metadata": {},
   "outputs": [
    {
     "data": {
      "text/html": [
       "<div>\n",
       "<style scoped>\n",
       "    .dataframe tbody tr th:only-of-type {\n",
       "        vertical-align: middle;\n",
       "    }\n",
       "\n",
       "    .dataframe tbody tr th {\n",
       "        vertical-align: top;\n",
       "    }\n",
       "\n",
       "    .dataframe thead th {\n",
       "        text-align: right;\n",
       "    }\n",
       "</style>\n",
       "<table border=\"1\" class=\"dataframe\">\n",
       "  <thead>\n",
       "    <tr style=\"text-align: right;\">\n",
       "      <th></th>\n",
       "      <th>Date</th>\n",
       "      <th>Price</th>\n",
       "      <th>Open</th>\n",
       "      <th>High</th>\n",
       "      <th>Low</th>\n",
       "      <th>Vol.</th>\n",
       "      <th>Change %</th>\n",
       "    </tr>\n",
       "  </thead>\n",
       "  <tbody>\n",
       "    <tr>\n",
       "      <th>0</th>\n",
       "      <td>12/29/2023</td>\n",
       "      <td>71.65</td>\n",
       "      <td>71.99</td>\n",
       "      <td>72.62</td>\n",
       "      <td>71.25</td>\n",
       "      <td>214.49K</td>\n",
       "      <td>-0.17%</td>\n",
       "    </tr>\n",
       "    <tr>\n",
       "      <th>1</th>\n",
       "      <td>12/28/2023</td>\n",
       "      <td>71.77</td>\n",
       "      <td>73.80</td>\n",
       "      <td>74.40</td>\n",
       "      <td>71.72</td>\n",
       "      <td>262.75K</td>\n",
       "      <td>-3.16%</td>\n",
       "    </tr>\n",
       "    <tr>\n",
       "      <th>2</th>\n",
       "      <td>12/27/2023</td>\n",
       "      <td>74.11</td>\n",
       "      <td>75.32</td>\n",
       "      <td>75.66</td>\n",
       "      <td>73.77</td>\n",
       "      <td>253.32K</td>\n",
       "      <td>-1.93%</td>\n",
       "    </tr>\n",
       "    <tr>\n",
       "      <th>3</th>\n",
       "      <td>12/26/2023</td>\n",
       "      <td>75.57</td>\n",
       "      <td>73.56</td>\n",
       "      <td>76.18</td>\n",
       "      <td>73.13</td>\n",
       "      <td>208.72K</td>\n",
       "      <td>2.41%</td>\n",
       "    </tr>\n",
       "    <tr>\n",
       "      <th>4</th>\n",
       "      <td>12/25/2023</td>\n",
       "      <td>73.79</td>\n",
       "      <td>73.49</td>\n",
       "      <td>73.94</td>\n",
       "      <td>73.48</td>\n",
       "      <td>NaN</td>\n",
       "      <td>0.31%</td>\n",
       "    </tr>\n",
       "  </tbody>\n",
       "</table>\n",
       "</div>"
      ],
      "text/plain": [
       "         Date  Price   Open   High    Low     Vol. Change %\n",
       "0  12/29/2023  71.65  71.99  72.62  71.25  214.49K   -0.17%\n",
       "1  12/28/2023  71.77  73.80  74.40  71.72  262.75K   -3.16%\n",
       "2  12/27/2023  74.11  75.32  75.66  73.77  253.32K   -1.93%\n",
       "3  12/26/2023  75.57  73.56  76.18  73.13  208.72K    2.41%\n",
       "4  12/25/2023  73.79  73.49  73.94  73.48      NaN    0.31%"
      ]
     },
     "execution_count": 3,
     "metadata": {},
     "output_type": "execute_result"
    }
   ],
   "source": [
    "data = pd.read_csv('..\\Data\\Crude Oil WTI Futures Historical Data.csv')\n",
    "data.head(5)"
   ]
  },
  {
   "cell_type": "code",
   "execution_count": 4,
   "metadata": {},
   "outputs": [
    {
     "name": "stdout",
     "output_type": "stream",
     "text": [
      "<class 'pandas.core.frame.DataFrame'>\n",
      "RangeIndex: 3649 entries, 0 to 3648\n",
      "Data columns (total 7 columns):\n",
      " #   Column    Non-Null Count  Dtype  \n",
      "---  ------    --------------  -----  \n",
      " 0   Date      3649 non-null   object \n",
      " 1   Price     3649 non-null   float64\n",
      " 2   Open      3649 non-null   float64\n",
      " 3   High      3649 non-null   float64\n",
      " 4   Low       3649 non-null   float64\n",
      " 5   Vol.      3503 non-null   object \n",
      " 6   Change %  3649 non-null   object \n",
      "dtypes: float64(4), object(3)\n",
      "memory usage: 199.7+ KB\n"
     ]
    }
   ],
   "source": [
    "data.info()"
   ]
  },
  {
   "cell_type": "code",
   "execution_count": 5,
   "metadata": {},
   "outputs": [],
   "source": [
    "data['Date'] = pd.to_datetime(data['Date'])"
   ]
  },
  {
   "cell_type": "code",
   "execution_count": 6,
   "metadata": {},
   "outputs": [
    {
     "data": {
      "text/html": [
       "<div>\n",
       "<style scoped>\n",
       "    .dataframe tbody tr th:only-of-type {\n",
       "        vertical-align: middle;\n",
       "    }\n",
       "\n",
       "    .dataframe tbody tr th {\n",
       "        vertical-align: top;\n",
       "    }\n",
       "\n",
       "    .dataframe thead th {\n",
       "        text-align: right;\n",
       "    }\n",
       "</style>\n",
       "<table border=\"1\" class=\"dataframe\">\n",
       "  <thead>\n",
       "    <tr style=\"text-align: right;\">\n",
       "      <th></th>\n",
       "      <th>Date</th>\n",
       "      <th>Price</th>\n",
       "      <th>Open</th>\n",
       "      <th>High</th>\n",
       "      <th>Low</th>\n",
       "      <th>Vol.</th>\n",
       "      <th>Change %</th>\n",
       "    </tr>\n",
       "    <tr>\n",
       "      <th>Date</th>\n",
       "      <th></th>\n",
       "      <th></th>\n",
       "      <th></th>\n",
       "      <th></th>\n",
       "      <th></th>\n",
       "      <th></th>\n",
       "      <th></th>\n",
       "    </tr>\n",
       "  </thead>\n",
       "  <tbody>\n",
       "    <tr>\n",
       "      <th>2023-12-29</th>\n",
       "      <td>2023-12-29</td>\n",
       "      <td>71.65</td>\n",
       "      <td>71.99</td>\n",
       "      <td>72.62</td>\n",
       "      <td>71.25</td>\n",
       "      <td>214.49K</td>\n",
       "      <td>-0.17%</td>\n",
       "    </tr>\n",
       "    <tr>\n",
       "      <th>2023-12-28</th>\n",
       "      <td>2023-12-28</td>\n",
       "      <td>71.77</td>\n",
       "      <td>73.80</td>\n",
       "      <td>74.40</td>\n",
       "      <td>71.72</td>\n",
       "      <td>262.75K</td>\n",
       "      <td>-3.16%</td>\n",
       "    </tr>\n",
       "    <tr>\n",
       "      <th>2023-12-27</th>\n",
       "      <td>2023-12-27</td>\n",
       "      <td>74.11</td>\n",
       "      <td>75.32</td>\n",
       "      <td>75.66</td>\n",
       "      <td>73.77</td>\n",
       "      <td>253.32K</td>\n",
       "      <td>-1.93%</td>\n",
       "    </tr>\n",
       "    <tr>\n",
       "      <th>2023-12-26</th>\n",
       "      <td>2023-12-26</td>\n",
       "      <td>75.57</td>\n",
       "      <td>73.56</td>\n",
       "      <td>76.18</td>\n",
       "      <td>73.13</td>\n",
       "      <td>208.72K</td>\n",
       "      <td>2.41%</td>\n",
       "    </tr>\n",
       "    <tr>\n",
       "      <th>2023-12-25</th>\n",
       "      <td>2023-12-25</td>\n",
       "      <td>73.79</td>\n",
       "      <td>73.49</td>\n",
       "      <td>73.94</td>\n",
       "      <td>73.48</td>\n",
       "      <td>NaN</td>\n",
       "      <td>0.31%</td>\n",
       "    </tr>\n",
       "  </tbody>\n",
       "</table>\n",
       "</div>"
      ],
      "text/plain": [
       "                 Date  Price   Open   High    Low     Vol. Change %\n",
       "Date                                                               \n",
       "2023-12-29 2023-12-29  71.65  71.99  72.62  71.25  214.49K   -0.17%\n",
       "2023-12-28 2023-12-28  71.77  73.80  74.40  71.72  262.75K   -3.16%\n",
       "2023-12-27 2023-12-27  74.11  75.32  75.66  73.77  253.32K   -1.93%\n",
       "2023-12-26 2023-12-26  75.57  73.56  76.18  73.13  208.72K    2.41%\n",
       "2023-12-25 2023-12-25  73.79  73.49  73.94  73.48      NaN    0.31%"
      ]
     },
     "execution_count": 6,
     "metadata": {},
     "output_type": "execute_result"
    }
   ],
   "source": [
    "data.index = data['Date']\n",
    "data.head(5)"
   ]
  },
  {
   "cell_type": "markdown",
   "metadata": {},
   "source": [
    "# Seasonality \n",
    "- Dữ liệu về giá thông thường là một tập các điểm với một khoảng thời gian cố định được gọi là một time series\n",
    "- Seasonality trong trading là một pattern thể hiện sự lặp đi lặp lại của giá trong một khoảng thời gian (một năm). Nó tương tự giống như dự báo thời tiết, hay mùa vụ trong sản xuất nó giải thích tại sao giá thường cao hoặc thấp hơn trong một số mùa, ngày trong năm\n",
    "- Ví dụ như một công ty sản xuất điều hòa nhiệt độ, sẽ bán được nhiều hơn vào mùa hè => doanh thu cao => giá cổ phiếu cũng sẽ cao và mùa đông thì ngược lại\n",
    "\n"
   ]
  },
  {
   "cell_type": "code",
   "execution_count": 7,
   "metadata": {},
   "outputs": [],
   "source": [
    "wti_monthly_return = data['Price'].pct_change().groupby([data['Price'].index.year, data['Price'].index.month]).mean()"
   ]
  },
  {
   "cell_type": "code",
   "execution_count": 8,
   "metadata": {},
   "outputs": [],
   "source": [
    "wti_monthly_return_list = []\n",
    "\n",
    "for i in range(len(wti_monthly_return)) : \n",
    "    wti_monthly_return_list.append({'month' : wti_monthly_return.index[i][1], 'monthly_return': wti_monthly_return.iloc[i]})\n",
    "\n",
    "wti_monthly_return_list = pd.DataFrame(wti_monthly_return_list, columns=['month', 'monthly_return'])\n"
   ]
  },
  {
   "cell_type": "code",
   "execution_count": 9,
   "metadata": {},
   "outputs": [],
   "source": [
    "wti_monthly_return_list.dropna(inplace=True)"
   ]
  },
  {
   "cell_type": "code",
   "execution_count": 10,
   "metadata": {},
   "outputs": [
    {
     "data": {
      "image/png": "[encoded data removed]",
      "text/plain": [
       "<Figure size 640x480 with 1 Axes>"
      ]
     },
     "metadata": {},
     "output_type": "display_data"
    }
   ],
   "source": [
    "wti_monthly_return_list.boxplot(column='monthly_return', by='month')\n",
    "ax = plt.gca()\n",
    "labels = [item.get_text() for item in ax.get_xticklabels()]\n",
    "labels=['Jan','Feb','Mar','Apr','May','Jun',\\\n",
    "        'Jul','Aug','Sep','Oct','Nov','Dec']\n",
    "ax.set_xticklabels(labels)\n",
    "ax.set_ylabel('WTI return')\n",
    "plt.tick_params(axis='both', which='major', labelsize=7)\n",
    "plt.title(\"WTI Monthly return 2010-2023\")\n",
    "\n",
    "plt.suptitle(\"\")\n",
    "plt.show()"
   ]
  },
  {
   "cell_type": "code",
   "execution_count": 11,
   "metadata": {},
   "outputs": [
    {
     "data": {
      "image/png": "[encoded data removed]",
      "text/plain": [
       "<Figure size 1000x600 with 1 Axes>"
      ]
     },
     "metadata": {},
     "output_type": "display_data"
    }
   ],
   "source": [
    "import seaborn as sns\n",
    "\n",
    "plt.figure(figsize=(10, 6))  # Đặt kích thước figure\n",
    "sns.boxplot(x='month', y='monthly_return', data=wti_monthly_return_list)\n",
    "plt.ylim(-0.02, 0.02)  # Đặt giới hạn trục y\n",
    "plt.xlabel('Month')\n",
    "plt.ylabel('WTI Return')\n",
    "plt.title('WTI Crude Oil Monthly Returns (2010-2023)')\n",
    "plt.show()"
   ]
  },
  {
   "cell_type": "markdown",
   "metadata": {},
   "source": [
    "- Giá của cổ phiếu biến đổi theo tháng tương đối ổn định, vào tháng tư có có các điểm outlier lớn"
   ]
  },
  {
   "cell_type": "markdown",
   "metadata": {},
   "source": [
    "# Rolling statistic và Stationary trong kiểu dữ liệu Time Series \n"
   ]
  },
  {
   "cell_type": "markdown",
   "metadata": {},
   "source": [
    "## Kiểu dữ liệu trong Time series \n",
    "- Stationary time series (chuỗi thời gian đứng yên) là kiểu dữ liệu có mean và variance là cố định, không thay đổi theo thời gian (hoặc sự thay đổi là nhỏ)\n",
    "- Ngược lại Non-stationary time series là kiểu dữ liệu có mean và variance thay đổi lớn, phụ thuộc vào thời gian. Ta có thể biến kiểu dữ liệu này thành Stationary bằng cách sử dụng các phương pháp như: detrending, differencing\n",
    "\n",
    "![Local Image](../Image/99388Stationary%20Vs%20Non-Stationary.png)"
   ]
  },
  {
   "cell_type": "markdown",
   "metadata": {},
   "source": [
    "## Rolling statistic \n",
    "- Một cách để chuyển dữ liệu từ không đứng yên thành kiểu dữ liệu đứng yên (stationary) đó là sử dụng phương pháp Rolling statistic - tính MA với một window_size được định nghĩa trước"
   ]
  },
  {
   "cell_type": "code",
   "execution_count": null,
   "metadata": {},
   "outputs": [],
   "source": []
  },
  {
   "cell_type": "markdown",
   "metadata": {},
   "source": [
    "# Reference \n",
    "- [Time Series Analysis and Forecasting | Data-Driven Insights (Updated 2024)](https://www.analyticsvidhya.com/blog/2021/10/a-comprehensive-guide-to-time-series-analysis/)"
   ]
  }
 ],
 "metadata": {
  "kernelspec": {
   "display_name": "algo_trading",
   "language": "python",
   "name": "python3"
  },
  "language_info": {
   "codemirror_mode": {
    "name": "ipython",
    "version": 3
   },
   "file_extension": ".py",
   "mimetype": "text/x-python",
   "name": "python",
   "nbconvert_exporter": "python",
   "pygments_lexer": "ipython3",
   "version": "3.10.14"
  }
 },
 "nbformat": 4,
 "nbformat_minor": 2
}
